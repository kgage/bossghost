{
 "cells": [
  {
   "cell_type": "code",
   "execution_count": 1,
   "metadata": {
    "collapsed": false
   },
   "outputs": [
    {
     "name": "stdout",
     "output_type": "stream",
     "text": [
      "Populating the interactive namespace from numpy and matplotlib\n"
     ]
    }
   ],
   "source": [
    "%pylab inline\n",
    "\n",
    "import bossdata.meta\n",
    "import ghosts"
   ]
  },
  {
   "cell_type": "code",
   "execution_count": 2,
   "metadata": {
    "collapsed": true
   },
   "outputs": [],
   "source": [
    "def low_z_diff(table):\n",
    "    \"\"\"\n",
    "    Return dictionary of fibers between a pair with Z-diff <= 0.001\n",
    "    \n",
    "    Args:\n",
    "        table(str): name of bossdata.meta.Database query table with PLATE,MJD,FIBER,Z,ZWARNING\n",
    "    \n",
    "    Returns:\n",
    "        result({str:float}): dict with 'plate-mjd-fiber' as key, z-diff as value\n",
    "    \"\"\"\n",
    "    result = {}\n",
    "    for i in range(len(table)-1):\n",
    "        if table[i]['PLATE'] == table[i+1]['PLATE']:\n",
    "            if table[i]['FIBER'] == table[i+1]['FIBER'] - 2:\n",
    "                diff = table[i]['Z'] - table[i+1]['Z']\n",
    "                fib = table[i]['FIBER']+1\n",
    "                if abs(diff) <= 0.001:\n",
    "                    f_str = \"{}-{}-{}\".format(table[i]['PLATE'],table[i]['MJD'],fib)\n",
    "                    result[f_str]={'DIFF':diff,\n",
    "                                   'LOW':{'Z':table[i]['Z'],'ZWARNING':table[i]['ZWARNING']},\n",
    "                                   'HIGH':{'Z':table[i+1]['Z'],'ZWARNING':table[i+1]['ZWARNING']}}\n",
    "    for i in range(len(table)-2):\n",
    "        if table[i]['PLATE'] == table[i+2]['PLATE']:\n",
    "            if table[i]['FIBER'] == table[i+2]['FIBER'] - 2:\n",
    "                diff = table[i]['Z'] - table[i+2]['Z']\n",
    "                fib = table[i]['FIBER']+1\n",
    "                if abs(diff) <= 0.001:\n",
    "                    f_str = \"{}-{}-{}\".format(table[i]['PLATE'],table[i]['MJD'],fib)\n",
    "                    result[f_str]={'DIFF':diff,\n",
    "                                   'LOW':{'Z':table[i]['Z'],'ZWARNING':table[i]['ZWARNING']},\n",
    "                                   'HIGH':{'Z':table[i+2]['Z'],'ZWARNING':table[i+2]['ZWARNING']}}\n",
    "    return result"
   ]
  },
  {
   "cell_type": "code",
   "execution_count": 54,
   "metadata": {
    "collapsed": true
   },
   "outputs": [],
   "source": [
    "def valid(z_dict):\n",
    "    valid = 0\n",
    "    invalid = 0\n",
    "    for z_diff in z_dict.keys():\n",
    "        fib = int(z_diff.split('-')[2])\n",
    "        if fib == 500 or fib == 501:\n",
    "            invalid += 1.0\n",
    "        else:\n",
    "            valid += 1.0\n",
    "    val = valid / len(z_dict)\n",
    "    inval = invalid / len(z_dict)\n",
    "    print('Valid: {} -- {:.2f}%\\nInvalid: {} -- {:.2f}%'.format(int(valid), val*100, int(invalid), inval*100))"
   ]
  },
  {
   "cell_type": "code",
   "execution_count": 3,
   "metadata": {
    "collapsed": true
   },
   "outputs": [],
   "source": [
    "obj_data = bossdata.meta.Database()"
   ]
  },
  {
   "cell_type": "code",
   "execution_count": 4,
   "metadata": {
    "collapsed": true
   },
   "outputs": [],
   "source": [
    "data_table = obj_data.select_all(what = 'PLATE,MJD,FIBER,Z,ZWARNING',\n",
    "                                 where = 'MJD between 55570 and 55770 and Z > 0.1',\n",
    "                                 max_rows = 0)"
   ]
  },
  {
   "cell_type": "code",
   "execution_count": 5,
   "metadata": {
    "collapsed": false
   },
   "outputs": [],
   "source": [
    "x= low_z_diff(data_table)"
   ]
  },
  {
   "cell_type": "code",
   "execution_count": 55,
   "metadata": {
    "collapsed": false
   },
   "outputs": [
    {
     "name": "stdout",
     "output_type": "stream",
     "text": [
      "Valid: 6361 -- 99.92%\n",
      "Invalid: 5 -- 0.08%\n"
     ]
    }
   ],
   "source": [
    "valid(x)"
   ]
  },
  {
   "cell_type": "code",
   "execution_count": 56,
   "metadata": {
    "collapsed": false
   },
   "outputs": [],
   "source": [
    "def warning(z_dict):\n",
    "    valid = 0\n",
    "    half = 0\n",
    "    invalid = 0\n",
    "    for stuff in z_dict.values():\n",
    "        if stuff['LOW']['ZWARNING'] == 0 and stuff['HIGH']['ZWARNING'] == 0:\n",
    "            valid += 1\n",
    "        elif stuff['LOW']['ZWARNING'] != 0 and stuff['HIGH']['ZWARNING'] != 0:\n",
    "            invalid += 1\n",
    "        else:\n",
    "            half += 1\n",
    "    s = \"No warning: {} \\nWarning: {} ({} with warning on both)\"\n",
    "    print(s.format(valid,half+invalid,invalid))"
   ]
  },
  {
   "cell_type": "code",
   "execution_count": 57,
   "metadata": {
    "collapsed": false
   },
   "outputs": [
    {
     "name": "stdout",
     "output_type": "stream",
     "text": [
      "No warning: 6058 \n",
      "Warning: 308 (22 with warning on both)\n"
     ]
    }
   ],
   "source": [
    "warning(x)"
   ]
  },
  {
   "cell_type": "code",
   "execution_count": 13,
   "metadata": {
    "collapsed": false
   },
   "outputs": [],
   "source": [
    "def print_warnings(zw):\n",
    "    if zw == 0:\n",
    "        print('No warning')\n",
    "        return\n",
    "    if zw & 2**0 != 0:\n",
    "        print('Sky fiber')\n",
    "    if zw & 2**1 != 0:\n",
    "        print('Too little wavelength coverage')\n",
    "    if zw & 2**2 != 0:\n",
    "        print('Small delta Chi^2')\n",
    "    if zw & 2**3 != 0:\n",
    "        print('Negative synthetic spectrum')\n",
    "    if zw & 2**4 != 0:\n",
    "        print('Too many points 5+ sigma from best model')\n",
    "    if zw & 2**5 != 0:\n",
    "        print('Chi^2 minimum at edge of fitting range')\n",
    "    if zw & 2**6 != 0:\n",
    "        print('Negative emission (QSO only)')\n",
    "    if zw & 2**7 != 0:\n",
    "        print('Unplugged fiber')\n",
    "    if zw & 2**8 != 0:\n",
    "        print('Catastrophically bad data')\n",
    "    if zw & 2**9 != 0:\n",
    "        print('No data')"
   ]
  },
  {
   "cell_type": "code",
   "execution_count": 6,
   "metadata": {
    "collapsed": false
   },
   "outputs": [],
   "source": [
    "test_dict = {}\n",
    "for pmf in x.keys():\n",
    "    plate,mjd,fiber = pmf.split('-')\n",
    "    fiber = int(fiber)\n",
    "    search_str = 'PLATE == {} and MJD == {} and FIBER between {} and {}'\n",
    "    search_str = search_str.format(plate, mjd, fiber-1, fiber+1)\n",
    "    test_table = obj_data.select_all(what = 'PLATE,MJD,FIBER,Z,ZWARNING,OBJTYPE,CLASS,SUBCLASS',\n",
    "                                     where = search_str)\n",
    "    test_dict[pmf] = test_table"
   ]
  },
  {
   "cell_type": "code",
   "execution_count": 30,
   "metadata": {
    "collapsed": false
   },
   "outputs": [],
   "source": [
    "def stats1(info):\n",
    "    \"\"\"\n",
    "    \"\"\"\n",
    "    same_o = 0\n",
    "    diff_o = 0\n",
    "    same_c = 0\n",
    "    diff_c = 0\n",
    "    same_s = 0\n",
    "    non = 0\n",
    "    for key in info.keys():\n",
    "        test = info[key]\n",
    "        if test[0]['OBJTYPE'] == test[2]['OBJTYPE']:\n",
    "            same_o += 1.0\n",
    "        else:\n",
    "            diff_o += 1.0\n",
    "        if test[0]['CLASS'] == test[2]['CLASS']:\n",
    "            same_c += 1.0\n",
    "            if test[0]['SUBCLASS'] == test[2]['SUBCLASS']:\n",
    "                same_s += 1\n",
    "                if not test[0]['SUBCLASS'] == '\"\"':\n",
    "                    non += 1\n",
    "        else:\n",
    "            diff_c += 1.0\n",
    "    obj_per = same_o / (same_o + diff_o)\n",
    "    class_per = same_c / (same_c + diff_c)\n",
    "    return (obj_per, class_per, same_s, non)"
   ]
  },
  {
   "cell_type": "code",
   "execution_count": 8,
   "metadata": {
    "collapsed": false
   },
   "outputs": [],
   "source": [
    "def stats2(info):\n",
    "    \"\"\"\n",
    "    \"\"\"\n",
    "    gal = 0\n",
    "    star = 0\n",
    "    qso = 0\n",
    "    other = 0\n",
    "    for key in info.keys():\n",
    "        test = info[key]\n",
    "        if test[0]['CLASS'] == 'QSO':\n",
    "            qso += 1\n",
    "        elif test[0]['CLASS'] == 'STAR':\n",
    "            star += 1\n",
    "        elif test[0]['CLASS'] == 'GALAXY':\n",
    "            gal += 1\n",
    "        else:\n",
    "            other += 1\n",
    "    return (gal, star, qso, other)"
   ]
  },
  {
   "cell_type": "code",
   "execution_count": 12,
   "metadata": {
    "collapsed": false
   },
   "outputs": [],
   "source": [
    "def stats3(info):\n",
    "    \"\"\"\n",
    "    \"\"\"\n",
    "    gal = 0\n",
    "    star = 0\n",
    "    qso = 0\n",
    "    other = 0\n",
    "    for key in info.keys():\n",
    "        test = info[key]\n",
    "        if test[1]['CLASS'] == 'QSO':\n",
    "            qso += 1\n",
    "        elif test[1]['CLASS'] == 'STAR':\n",
    "            star += 1\n",
    "        elif test[1]['CLASS'] == 'GALAXY':\n",
    "            gal += 1\n",
    "        else:\n",
    "            other += 1\n",
    "    return (gal, star, qso, other)"
   ]
  },
  {
   "cell_type": "code",
   "execution_count": 17,
   "metadata": {
    "collapsed": false
   },
   "outputs": [],
   "source": [
    "def stats4(info):\n",
    "    \"\"\"\n",
    "    \"\"\"\n",
    "    low = 0\n",
    "    mid = 0\n",
    "    high = 0\n",
    "    maybe = 0\n",
    "    for key in info.keys():\n",
    "        test = info[key]\n",
    "        if test[1]['Z'] < 1:\n",
    "            low += 1\n",
    "            if test[1]['Z'] >= 0.4 and test[1]['Z'] <= 0.6:\n",
    "                maybe += 1\n",
    "        elif test[1]['Z'] > 3:\n",
    "            high += 1\n",
    "        else:\n",
    "            mid += 1\n",
    "    return (low, mid, high, maybe)"
   ]
  },
  {
   "cell_type": "code",
   "execution_count": 31,
   "metadata": {
    "collapsed": false
   },
   "outputs": [
    {
     "name": "stdout",
     "output_type": "stream",
     "text": [
      "0.98287778825 have same OBJTYPE \n",
      "0.977065661326 have same CLASS \n",
      "6046 with same SUBCLASS (8 nonempty)\n"
     ]
    }
   ],
   "source": [
    "obj, cla, subc, non = stats1(test_dict)\n",
    "s = \"{} have same OBJTYPE \\n{} have same CLASS \\n{} with same SUBCLASS ({} nonempty)\"\n",
    "print(s.format(obj, cla, subc, non))"
   ]
  },
  {
   "cell_type": "code",
   "execution_count": 26,
   "metadata": {
    "collapsed": false
   },
   "outputs": [
    {
     "name": "stdout",
     "output_type": "stream",
     "text": [
      "For first in pair: \n",
      "6264 galaxies, 0 stars, 102 qso, 0 other\n"
     ]
    }
   ],
   "source": [
    "gal, star, qso, other = stats2(test_dict)\n",
    "s = 'For first in pair: \\n{} galaxies, {} stars, {} qso, {} other'\n",
    "print(s.format(gal, star, qso, other))"
   ]
  },
  {
   "cell_type": "code",
   "execution_count": 27,
   "metadata": {
    "collapsed": false
   },
   "outputs": [
    {
     "name": "stdout",
     "output_type": "stream",
     "text": [
      "For obj in between pair: \n",
      "3251 galaxies, 1152 stars, 1963 qso, 0 other\n"
     ]
    }
   ],
   "source": [
    "gal, star, qso, other = stats3(test_dict)\n",
    "s = 'For obj in between pair: \\n{} galaxies, {} stars, {} qso, {} other'\n",
    "print(s.format(gal, star, qso, other))"
   ]
  },
  {
   "cell_type": "code",
   "execution_count": 29,
   "metadata": {
    "collapsed": false
   },
   "outputs": [
    {
     "name": "stdout",
     "output_type": "stream",
     "text": [
      "4769 pairs with Z < 1 (1505 with 0.4 <= Z <= 0.5) \n",
      "1309 pairs with 1 <= Z <= 3 \n",
      "288 pairs with Z > 3\n"
     ]
    }
   ],
   "source": [
    "low, mid, high, maybe = stats4(test_dict)\n",
    "s = '{} pairs with Z < 1 ({} with 0.4 <= Z <= 0.5) \\n{} pairs with 1 <= Z <= 3 \\n{} pairs with Z > 3'\n",
    "print(s.format(low, maybe, mid, high))"
   ]
  },
  {
   "cell_type": "code",
   "execution_count": 19,
   "metadata": {
    "collapsed": false
   },
   "outputs": [
    {
     "data": {
      "text/plain": [
       "0.23641218975808986"
      ]
     },
     "execution_count": 19,
     "metadata": {},
     "output_type": "execute_result"
    }
   ],
   "source": [
    "1505/float(4769+1309+288)"
   ]
  },
  {
   "cell_type": "code",
   "execution_count": 20,
   "metadata": {
    "collapsed": false
   },
   "outputs": [
    {
     "name": "stdout",
     "output_type": "stream",
     "text": [
      "4620-55652-588\n",
      "69.0172\n",
      "\n",
      "4053-55591-353\n",
      "6.59593\n",
      "\n",
      "4504-55571-979\n",
      "20.7254\n",
      "\n",
      "4859-55684-68\n",
      "8.63828\n",
      "\n",
      "4053-55591-358\n",
      "7.69991\n",
      "\n",
      "4698-55623-832\n",
      "30.2593\n",
      "\n",
      "4625-55632-474\n",
      "12.8662\n",
      "\n",
      "4562-55570-410\n",
      "57.269\n",
      "\n",
      "4993-55738-434\n",
      "12.9603\n",
      "\n",
      "4730-55630-618\n",
      "15.0496\n",
      "\n",
      "4779-55656-188\n",
      "12.4561\n",
      "\n",
      "3830-55574-322\n",
      "11.0574\n",
      "\n",
      "4188-55684-626\n",
      "26.6812\n",
      "\n",
      "4738-55650-542\n",
      "16.8532\n",
      "\n",
      "3847-55588-448\n",
      "9.80635\n",
      "\n",
      "4807-55687-612\n",
      "15.8432\n",
      "\n",
      "4029-55618-94\n",
      "12.4545\n",
      "\n",
      "4564-55570-824\n",
      "9.72102\n",
      "\n",
      "4029-55618-90\n",
      "16.8266\n",
      "\n",
      "4756-55631-73\n",
      "11.974\n",
      "\n"
     ]
    }
   ],
   "source": [
    "attempt = x.keys()[:20]\n",
    "for pmf in attempt:\n",
    "    plate,mjd,fiber = pmf.split('-')\n",
    "    plate = int(plate)\n",
    "    mjd = int(mjd)\n",
    "    fiber = int(fiber)\n",
    "    gs = ghosts.flux_data(plate, mjd, fiber)\n",
    "    print(pmf)\n",
    "    main = gs.main_flux()\n",
    "    print(main)\n",
    "    if main > 500:\n",
    "        gs.plt_mid()\n",
    "    print('')"
   ]
  }
 ],
 "metadata": {
  "kernelspec": {
   "display_name": "Python 2",
   "language": "python",
   "name": "python2"
  },
  "language_info": {
   "codemirror_mode": {
    "name": "ipython",
    "version": 2
   },
   "file_extension": ".py",
   "mimetype": "text/x-python",
   "name": "python",
   "nbconvert_exporter": "python",
   "pygments_lexer": "ipython2",
   "version": "2.7.9"
  }
 },
 "nbformat": 4,
 "nbformat_minor": 0
}
