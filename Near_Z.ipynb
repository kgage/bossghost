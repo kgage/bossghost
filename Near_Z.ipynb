{
 "cells": [
  {
   "cell_type": "code",
   "execution_count": 1,
   "metadata": {
    "collapsed": true
   },
   "outputs": [],
   "source": [
    "import numpy as np\n",
    "import matplotlib.pyplot as plt\n",
    "%matplotlib inline\n",
    "\n",
    "import bossdata.meta\n",
    "import ghosts"
   ]
  },
  {
   "cell_type": "code",
   "execution_count": 11,
   "metadata": {
    "collapsed": true
   },
   "outputs": [],
   "source": [
    "def low_z_diff(table):\n",
    "    \"\"\"\n",
    "    Return dictionary of fibers between a pair with Z-diff <= 0.001\n",
    "    \n",
    "    Args:\n",
    "        table(str): name of bossdata.meta.Database query table with PLATE,MJD,FIBER,Z,ZWARNING\n",
    "    \n",
    "    Returns:\n",
    "        result({str:float}): dict with 'plate-mjd-fiber' as key, z-diff as value\n",
    "    \"\"\"\n",
    "    result = {}\n",
    "    for i in range(len(table)-1):\n",
    "        if table[i]['PLATE'] == table[i+1]['PLATE']:\n",
    "            if table[i]['FIBER'] == table[i+1]['FIBER'] - 2:\n",
    "                diff = table[i]['Z'] - table[i+1]['Z']\n",
    "                fib = table[i]['FIBER']+1\n",
    "                if abs(diff) <= 0.001:\n",
    "                    f_str = \"{}-{}-{}\".format(table[i]['PLATE'],table[i]['MJD'],fib)\n",
    "                    result[f_str]={'DIFF':diff,\n",
    "                                   'LOW':{'Z':table[i]['Z'],'ZWARNING':table[i]['ZWARNING']},\n",
    "                                   'HIGH':{'Z':table[i+1]['Z'],'ZWARNING':table[i+1]['ZWARNING']}}\n",
    "    for i in range(len(table)-2):\n",
    "        if table[i]['PLATE'] == table[i+2]['PLATE']:\n",
    "            if table[i]['FIBER'] == table[i+2]['FIBER'] - 2:\n",
    "                diff = table[i]['Z'] - table[i+2]['Z']\n",
    "                fib = table[i]['FIBER']+1\n",
    "                if abs(diff) <= 0.001:\n",
    "                    f_str = \"{}-{}-{}\".format(table[i]['PLATE'],table[i]['MJD'],fib)\n",
    "                    result[f_str]={'DIFF':diff,\n",
    "                                   'LOW':{'Z':table[i]['Z'],'ZWARNING':table[i]['ZWARNING']},\n",
    "                                   'HIGH':{'Z':table[i+2]['Z'],'ZWARNING':table[i+2]['ZWARNING']}}\n",
    "    return result"
   ]
  },
  {
   "cell_type": "code",
   "execution_count": 8,
   "metadata": {
    "collapsed": true
   },
   "outputs": [],
   "source": [
    "def valid(z_dict):\n",
    "    valid = 0\n",
    "    invalid = 0\n",
    "    for z_diff in z_dict.keys():\n",
    "        fib = int(z_diff.split('-')[2])\n",
    "        if fib == 500 or fib == 501:\n",
    "            invalid += 1.0\n",
    "        else:\n",
    "            valid += 1.0\n",
    "    val = valid / len(z_dict)\n",
    "    inval = invalid / len(z_dict)\n",
    "    print('Valid: {} -- {:.2f}%\\nInvalid: {} -- {:.2f}%'.format(int(valid), val*100, int(invalid), inval*100))"
   ]
  },
  {
   "cell_type": "code",
   "execution_count": 4,
   "metadata": {
    "collapsed": true
   },
   "outputs": [],
   "source": [
    "obj_data = bossdata.meta.Database()"
   ]
  },
  {
   "cell_type": "code",
   "execution_count": 9,
   "metadata": {
    "collapsed": true
   },
   "outputs": [],
   "source": [
    "data_table = obj_data.select_all(what = 'PLATE,MJD,FIBER,Z,ZWARNING',\n",
    "                                 where = 'MJD between 55170 and 55370 and Z > 0.1',\n",
    "                                 max_rows = 0)"
   ]
  },
  {
   "cell_type": "code",
   "execution_count": 12,
   "metadata": {
    "collapsed": false
   },
   "outputs": [],
   "source": [
    "x= low_z_diff(data_table)"
   ]
  },
  {
   "cell_type": "code",
   "execution_count": 7,
   "metadata": {
    "collapsed": false
   },
   "outputs": [
    {
     "name": "stdout",
     "output_type": "stream",
     "text": [
      "Valid: 3246 -- 99.88%\n",
      "Invalid: 4 -- 0.12%\n"
     ]
    }
   ],
   "source": [
    "valid(x)"
   ]
  },
  {
   "cell_type": "code",
   "execution_count": 8,
   "metadata": {
    "collapsed": false
   },
   "outputs": [],
   "source": [
    "def warning(z_dict):\n",
    "    valid = 0\n",
    "    half = 0\n",
    "    invalid = 0\n",
    "    for stuff in z_dict.values():\n",
    "        if stuff['LOW']['ZWARNING'] == 0 and stuff['HIGH']['ZWARNING'] == 0:\n",
    "            valid += 1\n",
    "        elif stuff['LOW']['ZWARNING'] != 0 and stuff['HIGH']['ZWARNING'] != 0:\n",
    "            invalid += 1\n",
    "        else:\n",
    "            half += 1\n",
    "    s = \"No warning: {} \\nWarning: {} ({} with warning on both)\"\n",
    "    print(s.format(valid,half+invalid,invalid))"
   ]
  },
  {
   "cell_type": "code",
   "execution_count": 9,
   "metadata": {
    "collapsed": false
   },
   "outputs": [
    {
     "name": "stdout",
     "output_type": "stream",
     "text": [
      "No warning: 3007 \n",
      "Warning: 243 (26 with warning on both)\n"
     ]
    }
   ],
   "source": [
    "warning(x)"
   ]
  },
  {
   "cell_type": "code",
   "execution_count": 13,
   "metadata": {
    "collapsed": false
   },
   "outputs": [],
   "source": [
    "def print_warnings(zw):\n",
    "    if zw == 0:\n",
    "        print('No warning')\n",
    "        return\n",
    "    if zw & 2**0 != 0:\n",
    "        print('Sky fiber')\n",
    "    if zw & 2**1 != 0:\n",
    "        print('Too little wavelength coverage')\n",
    "    if zw & 2**2 != 0:\n",
    "        print('Small delta Chi^2')\n",
    "    if zw & 2**3 != 0:\n",
    "        print('Negative synthetic spectrum')\n",
    "    if zw & 2**4 != 0:\n",
    "        print('Too many points 5+ sigma from best model')\n",
    "    if zw & 2**5 != 0:\n",
    "        print('Chi^2 minimum at edge of fitting range')\n",
    "    if zw & 2**6 != 0:\n",
    "        print('Negative emission (QSO only)')\n",
    "    if zw & 2**7 != 0:\n",
    "        print('Unplugged fiber')\n",
    "    if zw & 2**8 != 0:\n",
    "        print('Catastrophically bad data')\n",
    "    if zw & 2**9 != 0:\n",
    "        print('No data')"
   ]
  },
  {
   "cell_type": "code",
   "execution_count": 14,
   "metadata": {
    "collapsed": false
   },
   "outputs": [
    {
     "name": "stdout",
     "output_type": "stream",
     "text": [
      "3861-55274-600\n",
      "Z-difference: -0.00045\n",
      "Z value for fiber 599: 0.54153\n",
      "Z value for fiber 601: 0.54198\n",
      "Warnings for fiber 599:\n",
      "No warning\n",
      "Warnings for fiber 601:\n",
      "No warning\n",
      "\n",
      "4075-55352-226\n",
      "Z-difference: -0.00063\n",
      "Z value for fiber 225: 0.43519\n",
      "Z value for fiber 227: 0.43582\n",
      "Warnings for fiber 225:\n",
      "No warning\n",
      "Warnings for fiber 227:\n",
      "No warning\n",
      "\n",
      "3942-55338-391\n",
      "Z-difference: 0.00024\n",
      "Z value for fiber 390: 0.57367\n",
      "Z value for fiber 392: 0.57343\n",
      "Warnings for fiber 390:\n",
      "No warning\n",
      "Warnings for fiber 392:\n",
      "No warning\n",
      "\n",
      "3853-55268-88\n",
      "Z-difference: 0.00061\n",
      "Z value for fiber 87: 0.56736\n",
      "Z value for fiber 89: 0.56675\n",
      "Warnings for fiber 87:\n",
      "No warning\n",
      "Warnings for fiber 89:\n",
      "No warning\n",
      "\n",
      "3929-55335-676\n",
      "Z-difference: 0.0009\n",
      "Z value for fiber 675: 0.53519\n",
      "Z value for fiber 677: 0.53429\n",
      "Warnings for fiber 675:\n",
      "No warning\n",
      "Warnings for fiber 677:\n",
      "No warning\n",
      "\n",
      "3929-55335-672\n",
      "Z-difference: -9e-05\n",
      "Z value for fiber 671: 0.4906\n",
      "Z value for fiber 673: 0.49069\n",
      "Warnings for fiber 671:\n",
      "No warning\n",
      "Warnings for fiber 673:\n",
      "No warning\n",
      "\n",
      "3875-55364-755\n",
      "Z-difference: 0.00089\n",
      "Z value for fiber 754: 0.55011\n",
      "Z value for fiber 756: 0.54922\n",
      "Warnings for fiber 754:\n",
      "No warning\n",
      "Warnings for fiber 756:\n",
      "No warning\n",
      "\n",
      "3934-55336-874\n",
      "Z-difference: -0.00053\n",
      "Z value for fiber 873: 0.54421\n",
      "Z value for fiber 875: 0.54474\n",
      "Warnings for fiber 873:\n",
      "No warning\n",
      "Warnings for fiber 875:\n",
      "No warning\n",
      "\n",
      "3683-55178-52\n",
      "Z-difference: -0.00027\n",
      "Z value for fiber 51: 0.51973\n",
      "Z value for fiber 53: 0.52\n",
      "Warnings for fiber 51:\n",
      "No warning\n",
      "Warnings for fiber 53:\n",
      "No warning\n",
      "\n",
      "3975-55321-818\n",
      "Z-difference: -0.00031\n",
      "Z value for fiber 817: 0.52663\n",
      "Z value for fiber 819: 0.52694\n",
      "Warnings for fiber 817:\n",
      "No warning\n",
      "Warnings for fiber 819:\n",
      "No warning\n",
      "\n",
      "3774-55244-864\n",
      "Z-difference: -0.00025\n",
      "Z value for fiber 863: 0.5975\n",
      "Z value for fiber 865: 0.59775\n",
      "Warnings for fiber 863:\n",
      "No warning\n",
      "Warnings for fiber 865:\n",
      "No warning\n",
      "\n",
      "4004-55321-76\n",
      "Z-difference: -0.00057\n",
      "Z value for fiber 75: 0.46987\n",
      "Z value for fiber 77: 0.47044\n",
      "Warnings for fiber 75:\n",
      "No warning\n",
      "Warnings for fiber 77:\n",
      "No warning\n",
      "\n",
      "3694-55209-276\n",
      "Z-difference: -0.0003\n",
      "Z value for fiber 275: 0.54836\n",
      "Z value for fiber 277: 0.54866\n",
      "Warnings for fiber 275:\n",
      "No warning\n",
      "Warnings for fiber 277:\n",
      "No warning\n",
      "\n",
      "4026-55325-72\n",
      "Z-difference: 0.00013\n",
      "Z value for fiber 71: 0.54475\n",
      "Z value for fiber 73: 0.54462\n",
      "Warnings for fiber 71:\n",
      "No warning\n",
      "Warnings for fiber 73:\n",
      "No warning\n",
      "\n",
      "3684-55246-652\n",
      "Z-difference: 0.00031\n",
      "Z value for fiber 651: 0.48173\n",
      "Z value for fiber 653: 0.48142\n",
      "Warnings for fiber 651:\n",
      "No warning\n",
      "Warnings for fiber 653:\n",
      "No warning\n",
      "\n",
      "3873-55277-258\n",
      "Z-difference: -0.00046\n",
      "Z value for fiber 257: 0.53019\n",
      "Z value for fiber 259: 0.53065\n",
      "Warnings for fiber 257:\n",
      "No warning\n",
      "Warnings for fiber 259:\n",
      "No warning\n",
      "\n",
      "3606-55182-464\n",
      "Z-difference: -0.00075\n",
      "Z value for fiber 463: 0.59124\n",
      "Z value for fiber 465: 0.59199\n",
      "Warnings for fiber 463:\n",
      "No warning\n",
      "Warnings for fiber 465:\n",
      "Small delta Chi^2\n",
      "\n",
      "3953-55322-698\n",
      "Z-difference: 0.00072\n",
      "Z value for fiber 697: 0.52002\n",
      "Z value for fiber 699: 0.5193\n",
      "Warnings for fiber 697:\n",
      "No warning\n",
      "Warnings for fiber 699:\n",
      "No warning\n",
      "\n",
      "4077-55361-312\n",
      "Z-difference: 0.00029\n",
      "Z value for fiber 311: 0.45302\n",
      "Z value for fiber 313: 0.45273\n",
      "Warnings for fiber 311:\n",
      "No warning\n",
      "Warnings for fiber 313:\n",
      "No warning\n",
      "\n",
      "3932-55337-908\n",
      "Z-difference: 9e-05\n",
      "Z value for fiber 907: 0.57206\n",
      "Z value for fiber 909: 0.57197\n",
      "Warnings for fiber 907:\n",
      "No warning\n",
      "Warnings for fiber 909:\n",
      "No warning\n",
      "\n"
     ]
    }
   ],
   "source": [
    "test = x.keys()[50:70]\n",
    "for pmf in test:\n",
    "    plate,mjd,fiber = pmf.split('-')\n",
    "    plate = int(plate)\n",
    "    mjd = int(mjd)\n",
    "    fiber = int(fiber)\n",
    "    value = x[pmf]\n",
    "    \n",
    "    print(pmf)\n",
    "    print('Z-difference: {}'.format(value['DIFF']))\n",
    "    print('Z value for fiber {}: {}'.format(fiber - 1, value['LOW']['Z']))\n",
    "    print('Z value for fiber {}: {}'.format(fiber + 1, value['HIGH']['Z']))\n",
    "    print('Warnings for fiber {}:'.format(fiber - 1))\n",
    "    print_warnings(value['LOW']['ZWARNING'])\n",
    "    print('Warnings for fiber {}:'.format(fiber + 1))\n",
    "    print_warnings(value['HIGH']['ZWARNING'])\n",
    "    \n",
    "    print('')"
   ]
  },
  {
   "cell_type": "code",
   "execution_count": 2,
   "metadata": {
    "collapsed": true
   },
   "outputs": [],
   "source": [
    "g = ghosts.flux_data(3874,55280,68)"
   ]
  },
  {
   "cell_type": "code",
   "execution_count": 17,
   "metadata": {
    "collapsed": false
   },
   "outputs": [],
   "source": [
    "test_table = obj_data.select_all(what = 'PLATE,MJD,FIBER,Z,ZWARNING,OBJTYPE,CLASS,SUBCLASS',\n",
    "                                 where = 'PLATE == 4077 and MJD == 55361 and FIBER between 311 and 313')"
   ]
  },
  {
   "cell_type": "code",
   "execution_count": 18,
   "metadata": {
    "collapsed": false
   },
   "outputs": [
    {
     "data": {
      "text/html": [
       "&lt;Table masked=False length=3&gt;\n",
       "<table id=\"table140094769265040\">\n",
       "<thead><tr><th>PLATE</th><th>MJD</th><th>FIBER</th><th>Z</th><th>ZWARNING</th><th>OBJTYPE</th><th>CLASS</th><th>SUBCLASS</th></tr></thead>\n",
       "<thead><tr><th>int64</th><th>int64</th><th>int64</th><th>float64</th><th>int64</th><th>string128</th><th>string48</th><th>string112</th></tr></thead>\n",
       "<tr><td>4077</td><td>55361</td><td>311</td><td>0.45302</td><td>0</td><td>GALAXY</td><td>GALAXY</td><td>&quot;&quot;</td></tr>\n",
       "<tr><td>4077</td><td>55361</td><td>312</td><td>-0.00031412</td><td>0</td><td>SPECTROPHOTO_STD</td><td>STAR</td><td>F3/F5V+(30743)</td></tr>\n",
       "<tr><td>4077</td><td>55361</td><td>313</td><td>0.45273</td><td>0</td><td>GALAXY</td><td>GALAXY</td><td>&quot;&quot;</td></tr>\n",
       "</table>"
      ],
      "text/plain": [
       "<Table masked=False length=3>\n",
       "PLATE  MJD  FIBER      Z      ZWARNING     OBJTYPE       CLASS      SUBCLASS   \n",
       "int64 int64 int64   float64    int64      string128     string48   string112   \n",
       "----- ----- ----- ----------- -------- ---------------- -------- --------------\n",
       " 4077 55361   311     0.45302        0           GALAXY   GALAXY             \"\"\n",
       " 4077 55361   312 -0.00031412        0 SPECTROPHOTO_STD     STAR F3/F5V+(30743)\n",
       " 4077 55361   313     0.45273        0           GALAXY   GALAXY             \"\""
      ]
     },
     "execution_count": 18,
     "metadata": {},
     "output_type": "execute_result"
    }
   ],
   "source": [
    "test_table"
   ]
  },
  {
   "cell_type": "code",
   "execution_count": null,
   "metadata": {
    "collapsed": true
   },
   "outputs": [],
   "source": []
  }
 ],
 "metadata": {
  "kernelspec": {
   "display_name": "Python 2",
   "language": "python",
   "name": "python2"
  },
  "language_info": {
   "codemirror_mode": {
    "name": "ipython",
    "version": 2
   },
   "file_extension": ".py",
   "mimetype": "text/x-python",
   "name": "python",
   "nbconvert_exporter": "python",
   "pygments_lexer": "ipython2",
   "version": "2.7.9"
  }
 },
 "nbformat": 4,
 "nbformat_minor": 0
}
