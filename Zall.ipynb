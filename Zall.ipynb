{
 "cells": [
  {
   "cell_type": "code",
   "execution_count": 1,
   "metadata": {
    "collapsed": false
   },
   "outputs": [
    {
     "name": "stdout",
     "output_type": "stream",
     "text": [
      "Populating the interactive namespace from numpy and matplotlib\n"
     ]
    }
   ],
   "source": [
    "import bossdata.path\n",
    "import bossdata.remote\n",
    "import bossdata.spec\n",
    "import fitsio\n",
    "%pylab inline"
   ]
  },
  {
   "cell_type": "code",
   "execution_count": 2,
   "metadata": {
    "collapsed": true
   },
   "outputs": [],
   "source": [
    "finder = bossdata.path.Finder()\n",
    "mirror = bossdata.remote.Manager()"
   ]
  },
  {
   "cell_type": "code",
   "execution_count": 3,
   "metadata": {
    "collapsed": false
   },
   "outputs": [],
   "source": [
    "remote_path = finder.get_spec_path(plate=4053, mjd=55591, fiber=359, lite=True)\n",
    "local_path = mirror.get(remote_path)"
   ]
  },
  {
   "cell_type": "code",
   "execution_count": 4,
   "metadata": {
    "collapsed": true
   },
   "outputs": [],
   "source": [
    "info = bossdata.spec.SpecFile(local_path)"
   ]
  },
  {
   "cell_type": "code",
   "execution_count": 5,
   "metadata": {
    "collapsed": false
   },
   "outputs": [],
   "source": [
    "lines = info.hdulist[3]['LINENAME','LINEWAVE','LINEZ'][:]"
   ]
  },
  {
   "cell_type": "code",
   "execution_count": 6,
   "metadata": {
    "collapsed": false
   },
   "outputs": [
    {
     "name": "stdout",
     "output_type": "stream",
     "text": [
      "Mg_II 2799    -- 4303.26474244\n",
      "[O_II] 3725   -- 5727.44699154\n",
      "[O_II] 3727   -- 5731.72142\n",
      "[Ne_III] 3868 -- 5946.83758016\n",
      "H_epsilon     -- 5978.02975207\n",
      "[Ne_III] 3970 -- 6102.44776733\n",
      "H_delta       -- 6304.94174179\n",
      "H_gamma       -- 6671.89300014\n",
      "[O_III] 4363  -- 6706.85744551\n",
      "He_II 4685    -- 7202.5297263\n",
      "H_beta        -- 7472.51982914\n",
      "[O_III] 4959  -- 7622.52873435\n",
      "[O_III] 5007  -- 7696.19538549\n",
      "He_II 5411    -- 8318.23314876\n",
      "[O_I] 5577    -- 8573.12308966\n",
      "[N_II] 5755   -- 8845.57489942\n",
      "He_I 5876     -- 9031.7119942\n",
      "[O_I] 6300    -- 9684.40818178\n",
      "[S_III] 6312  -- 9702.46465298\n",
      "[O_I] 6363    -- 9781.9643671\n",
      "[N_II] 6548   -- 10065.2152536\n",
      "H_alpha       -- 10087.8838369\n",
      "[N_II] 6583   -- 10119.6403024\n",
      "[S_II] 6716   -- 10324.0493589\n",
      "[S_II] 6730   -- 10346.1571624\n"
     ]
    }
   ],
   "source": [
    "for i in range(len(lines)):\n",
    "    wave = lines[i]['LINEZ'] * lines[i]['LINEWAVE'] + lines[i]['LINEWAVE']\n",
    "    if lines[i]['LINEZ'] != 0:\n",
    "        print(lines[i]['LINENAME'] + ' -- ' + str(wave))"
   ]
  },
  {
   "cell_type": "code",
   "execution_count": 7,
   "metadata": {
    "collapsed": true
   },
   "outputs": [],
   "source": [
    "data = info.get_valid_data()\n",
    "wlen, flux, dflux = data['wavelength'][:], data['flux'][:], data['dflux'][:]"
   ]
  },
  {
   "cell_type": "code",
   "execution_count": 8,
   "metadata": {
    "collapsed": false
   },
   "outputs": [],
   "source": [
    "model = info.hdulist[1]['model'][:]"
   ]
  },
  {
   "cell_type": "code",
   "execution_count": 9,
   "metadata": {
    "collapsed": false
   },
   "outputs": [
    {
     "data": {
      "image/png": "[encoded data removed]",
      "text/plain": [
       "<matplotlib.figure.Figure at 0x7f0215551ed0>"
      ]
     },
     "metadata": {},
     "output_type": "display_data"
    }
   ],
   "source": [
    "plt.figure(figsize = (8,8))\n",
    "plt.plot(wlen,flux)\n",
    "plt.plot(wlen,model)\n",
    "l = []\n",
    "for i in range(len(lines)):\n",
    "    wave = lines[i]['LINEZ'] * lines[i]['LINEWAVE'] + lines[i]['LINEWAVE']\n",
    "    if lines[i]['LINEZ'] != 0:\n",
    "        l.append(wave)\n",
    "plt.plot(l, 4 * np.ones(len(l)), marker = '|', color = 'black', markersize = 12, linestyle = '')\n",
    "#plt.xlim(9500,11000)\n",
    "plt.show()"
   ]
  },
  {
   "cell_type": "code",
   "execution_count": 10,
   "metadata": {
    "collapsed": true
   },
   "outputs": [],
   "source": [
    "Zall = fitsio.FITS('spZall-4053-55591.fits')"
   ]
  },
  {
   "cell_type": "code",
   "execution_count": 11,
   "metadata": {
    "collapsed": true
   },
   "outputs": [],
   "source": [
    "num = [352, 354, 357, 359]"
   ]
  },
  {
   "cell_type": "code",
   "execution_count": 23,
   "metadata": {
    "collapsed": false
   },
   "outputs": [
    {
     "name": "stdout",
     "output_type": "stream",
     "text": [
      "[ (352, 'GALAXY', '                     ', 0.40801990032196045, 0.9790879487991333)\n",
      " (352, 'GALAXY', '                     ', 0.41156214475631714, 1.0840147733688354)\n",
      " (352, 'QSO   ', '                     ', 5.721690654754639, 1.0939922332763672)]\n",
      "[ (354, 'GALAXY', '                     ', 0.40784379839897156, 0.9981748461723328)\n",
      " (354, 'GALAXY', '                     ', 0.4122123420238495, 1.2060059309005737)\n",
      " (354, 'QSO   ', '                     ', 5.655498027801514, 1.2082403898239136)]\n",
      "[ (357, 'GALAXY', 'AGN                  ', 0.5371212363243103, 1.4217875003814697)\n",
      " (357, 'QSO   ', '                     ', 0.5369772911071777, 1.5492620468139648)\n",
      " (357, 'GALAXY', '                     ', 0.17268580198287964, 1.689514398574829)]\n",
      "[ (359, 'GALAXY', '                     ', 0.537486732006073, 1.0599197149276733)\n",
      " (359, 'GALAXY', '                     ', 0.5399265289306641, 1.1006745100021362)\n",
      " (359, 'QSO   ', '                     ', 6.34770393371582, 1.1356228590011597)]\n"
     ]
    }
   ],
   "source": [
    "for n in num:\n",
    "    x = (n-1)*134\n",
    "    print(Zall[1]['FIBERID','CLASS','SUBCLASS','Z','RCHI2'][x:x+3])"
   ]
  },
  {
   "cell_type": "code",
   "execution_count": 25,
   "metadata": {
    "collapsed": false
   },
   "outputs": [
    {
     "data": {
      "text/plain": [
       "array([ (352, 'spEigenGal-56436.fits   ', [0, 1, 2, 3, -1, -1, -1, -1, -1, -1], 3, [0.01201134268194437, 0.03990386798977852, 0.18553945422172546, -0.01229883823543787, -1.3839863538742065, 4.12687349319458, -3.430598735809326, 0.0, 0.0, 0.0])], \n",
       "      dtype=[('FIBERID', '>i4'), ('TFILE', 'S24'), ('TCOLUMN', '>i4', (10,)), ('NPOLY', '>i4'), ('THETA', '>f4', (10,))])"
      ]
     },
     "execution_count": 25,
     "metadata": {},
     "output_type": "execute_result"
    }
   ],
   "source": [
    "Zall[1]['FIBERID','TFILE','TCOLUMN','NPOLY','THETA'][134*351]"
   ]
  }
 ],
 "metadata": {
  "kernelspec": {
   "display_name": "Python 2",
   "language": "python",
   "name": "python2"
  },
  "language_info": {
   "codemirror_mode": {
    "name": "ipython",
    "version": 2
   },
   "file_extension": ".py",
   "mimetype": "text/x-python",
   "name": "python",
   "nbconvert_exporter": "python",
   "pygments_lexer": "ipython2",
   "version": "2.7.9"
  }
 },
 "nbformat": 4,
 "nbformat_minor": 0
}
